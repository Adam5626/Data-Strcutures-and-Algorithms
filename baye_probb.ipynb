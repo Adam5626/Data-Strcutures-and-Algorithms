{
 "cells": [
  {
   "cell_type": "code",
   "execution_count": 141,
   "id": "701a8859-c87f-4e30-a16d-9ff657f95b1d",
   "metadata": {},
   "outputs": [],
   "source": [
    "import pandas as pd\n",
    "import numpy as np\n",
    "from collections import Counter"
   ]
  },
  {
   "cell_type": "code",
   "execution_count": 142,
   "id": "3166d6b6-0c17-4762-97ae-e9416523377b",
   "metadata": {},
   "outputs": [
    {
     "data": {
      "text/html": [
       "<div>\n",
       "<style scoped>\n",
       "    .dataframe tbody tr th:only-of-type {\n",
       "        vertical-align: middle;\n",
       "    }\n",
       "\n",
       "    .dataframe tbody tr th {\n",
       "        vertical-align: top;\n",
       "    }\n",
       "\n",
       "    .dataframe thead th {\n",
       "        text-align: right;\n",
       "    }\n",
       "</style>\n",
       "<table border=\"1\" class=\"dataframe\">\n",
       "  <thead>\n",
       "    <tr style=\"text-align: right;\">\n",
       "      <th></th>\n",
       "      <th>Outlook</th>\n",
       "      <th>Temperature</th>\n",
       "      <th>Humidity</th>\n",
       "      <th>Wind</th>\n",
       "      <th>Play Tennis</th>\n",
       "    </tr>\n",
       "  </thead>\n",
       "  <tbody>\n",
       "    <tr>\n",
       "      <th>0</th>\n",
       "      <td>Sunny</td>\n",
       "      <td>Hot</td>\n",
       "      <td>High</td>\n",
       "      <td>Weak</td>\n",
       "      <td>No</td>\n",
       "    </tr>\n",
       "    <tr>\n",
       "      <th>1</th>\n",
       "      <td>Sunny</td>\n",
       "      <td>Hot</td>\n",
       "      <td>High</td>\n",
       "      <td>Strong</td>\n",
       "      <td>No</td>\n",
       "    </tr>\n",
       "    <tr>\n",
       "      <th>2</th>\n",
       "      <td>Overcast</td>\n",
       "      <td>Hot</td>\n",
       "      <td>High</td>\n",
       "      <td>Weak</td>\n",
       "      <td>Yes</td>\n",
       "    </tr>\n",
       "    <tr>\n",
       "      <th>3</th>\n",
       "      <td>Rain</td>\n",
       "      <td>Mild</td>\n",
       "      <td>High</td>\n",
       "      <td>Weak</td>\n",
       "      <td>Yes</td>\n",
       "    </tr>\n",
       "    <tr>\n",
       "      <th>4</th>\n",
       "      <td>Rain</td>\n",
       "      <td>Cool</td>\n",
       "      <td>Normal</td>\n",
       "      <td>Weak</td>\n",
       "      <td>Yes</td>\n",
       "    </tr>\n",
       "    <tr>\n",
       "      <th>5</th>\n",
       "      <td>Rain</td>\n",
       "      <td>Cool</td>\n",
       "      <td>Normal</td>\n",
       "      <td>Strong</td>\n",
       "      <td>No</td>\n",
       "    </tr>\n",
       "    <tr>\n",
       "      <th>6</th>\n",
       "      <td>Overcast</td>\n",
       "      <td>Cool</td>\n",
       "      <td>Normal</td>\n",
       "      <td>Strong</td>\n",
       "      <td>Yes</td>\n",
       "    </tr>\n",
       "    <tr>\n",
       "      <th>7</th>\n",
       "      <td>Sunny</td>\n",
       "      <td>Mild</td>\n",
       "      <td>High</td>\n",
       "      <td>Weak</td>\n",
       "      <td>No</td>\n",
       "    </tr>\n",
       "    <tr>\n",
       "      <th>8</th>\n",
       "      <td>Sunny</td>\n",
       "      <td>Cool</td>\n",
       "      <td>Normal</td>\n",
       "      <td>Weak</td>\n",
       "      <td>Yes</td>\n",
       "    </tr>\n",
       "    <tr>\n",
       "      <th>9</th>\n",
       "      <td>Rain</td>\n",
       "      <td>Mild</td>\n",
       "      <td>Normal</td>\n",
       "      <td>Weak</td>\n",
       "      <td>Yes</td>\n",
       "    </tr>\n",
       "    <tr>\n",
       "      <th>10</th>\n",
       "      <td>Sunny</td>\n",
       "      <td>Mild</td>\n",
       "      <td>Normal</td>\n",
       "      <td>Strong</td>\n",
       "      <td>Yes</td>\n",
       "    </tr>\n",
       "    <tr>\n",
       "      <th>11</th>\n",
       "      <td>Overcast</td>\n",
       "      <td>Mild</td>\n",
       "      <td>High</td>\n",
       "      <td>Strong</td>\n",
       "      <td>Yes</td>\n",
       "    </tr>\n",
       "    <tr>\n",
       "      <th>12</th>\n",
       "      <td>Overcast</td>\n",
       "      <td>Hot</td>\n",
       "      <td>Normal</td>\n",
       "      <td>Weak</td>\n",
       "      <td>Yes</td>\n",
       "    </tr>\n",
       "    <tr>\n",
       "      <th>13</th>\n",
       "      <td>Rain</td>\n",
       "      <td>Mild</td>\n",
       "      <td>High</td>\n",
       "      <td>Strong</td>\n",
       "      <td>No</td>\n",
       "    </tr>\n",
       "  </tbody>\n",
       "</table>\n",
       "</div>"
      ],
      "text/plain": [
       "     Outlook Temperature Humidity    Wind Play Tennis\n",
       "0      Sunny         Hot     High    Weak          No\n",
       "1      Sunny         Hot     High  Strong          No\n",
       "2   Overcast         Hot     High    Weak         Yes\n",
       "3       Rain        Mild     High    Weak         Yes\n",
       "4       Rain        Cool   Normal    Weak         Yes\n",
       "5       Rain        Cool   Normal  Strong          No\n",
       "6   Overcast        Cool   Normal  Strong         Yes\n",
       "7      Sunny        Mild     High    Weak          No\n",
       "8      Sunny        Cool   Normal    Weak         Yes\n",
       "9       Rain        Mild   Normal    Weak         Yes\n",
       "10     Sunny        Mild   Normal  Strong         Yes\n",
       "11  Overcast        Mild     High  Strong         Yes\n",
       "12  Overcast         Hot   Normal    Weak         Yes\n",
       "13      Rain        Mild     High  Strong          No"
      ]
     },
     "execution_count": 142,
     "metadata": {},
     "output_type": "execute_result"
    }
   ],
   "source": [
    "df = pd.read_csv('data1.csv')\n",
    "df"
   ]
  },
  {
   "cell_type": "code",
   "execution_count": 143,
   "id": "b734a82f-c05c-499e-b944-00e02a08e540",
   "metadata": {},
   "outputs": [
    {
     "data": {
      "text/plain": [
       "{'Yes': 9, 'No': 5}"
      ]
     },
     "execution_count": 143,
     "metadata": {},
     "output_type": "execute_result"
    }
   ],
   "source": [
    "\n",
    "Total_label  = dict(df['Play Tennis'].value_counts())\n",
    "Total_label "
   ]
  },
  {
   "cell_type": "code",
   "execution_count": 144,
   "id": "5a800b2c-a003-4cb1-8267-2ad69c4bc7f0",
   "metadata": {},
   "outputs": [
    {
     "data": {
      "text/plain": [
       "14"
      ]
     },
     "execution_count": 144,
     "metadata": {},
     "output_type": "execute_result"
    }
   ],
   "source": [
    "df.shape[0]"
   ]
  },
  {
   "cell_type": "code",
   "execution_count": 145,
   "id": "5d8405d9-f942-4637-94f3-33d18622119d",
   "metadata": {},
   "outputs": [
    {
     "data": {
      "text/html": [
       "<div>\n",
       "<style scoped>\n",
       "    .dataframe tbody tr th:only-of-type {\n",
       "        vertical-align: middle;\n",
       "    }\n",
       "\n",
       "    .dataframe tbody tr th {\n",
       "        vertical-align: top;\n",
       "    }\n",
       "\n",
       "    .dataframe thead th {\n",
       "        text-align: right;\n",
       "    }\n",
       "</style>\n",
       "<table border=\"1\" class=\"dataframe\">\n",
       "  <thead>\n",
       "    <tr style=\"text-align: right;\">\n",
       "      <th></th>\n",
       "      <th>Yes</th>\n",
       "      <th>No</th>\n",
       "    </tr>\n",
       "  </thead>\n",
       "  <tbody>\n",
       "    <tr>\n",
       "      <th>Sunny</th>\n",
       "      <td>2/9</td>\n",
       "      <td>3/5</td>\n",
       "    </tr>\n",
       "    <tr>\n",
       "      <th>Overcast</th>\n",
       "      <td>4/9</td>\n",
       "      <td>0/5</td>\n",
       "    </tr>\n",
       "    <tr>\n",
       "      <th>Rain</th>\n",
       "      <td>3/9</td>\n",
       "      <td>2/5</td>\n",
       "    </tr>\n",
       "  </tbody>\n",
       "</table>\n",
       "</div>"
      ],
      "text/plain": [
       "          Yes   No\n",
       "Sunny     2/9  3/5\n",
       "Overcast  4/9  0/5\n",
       "Rain      3/9  2/5"
      ]
     },
     "execution_count": 145,
     "metadata": {},
     "output_type": "execute_result"
    }
   ],
   "source": [
    "def get_Prob(col_name):\n",
    "    l_y = []\n",
    "    l_n = []\n",
    "\n",
    "    for val in df[col_name].unique():\n",
    "        aa = df[df[col_name] == val]\n",
    "        y,n = aa[aa['Play Tennis'] == 'Yes'],aa[aa['Play Tennis']== 'No']\n",
    "\n",
    "        l_y.append(str(y.shape[0])+'/'+str(Total_label['Yes']))\n",
    "        l_n.append(str(n.shape[0])+'/'+str(Total_label['No']))\n",
    "\n",
    "    d_col_name = pd.DataFrame(index=df[col_name].unique(),data=list(zip(l_y,l_n)),columns='Yes No'.split(' '))\n",
    "    return d_col_name\n",
    "\n",
    "\n",
    "def get_dat(dfz,row,col):\n",
    "    a,b = [int(i) for i in dfz.loc[row][col].split('/')]\n",
    "    return a,b\n",
    "    \n",
    "    \n",
    "#get_dat(get_Prob('Outlook'),'Sunny','Yes')\n",
    "\n",
    "get_Prob('Outlook')"
   ]
  },
  {
   "cell_type": "code",
   "execution_count": 146,
   "id": "4c8608cd-9c82-4a9b-a55b-11963fb9e342",
   "metadata": {},
   "outputs": [
    {
     "data": {
      "text/plain": [
       "[2, 5]"
      ]
     },
     "execution_count": 146,
     "metadata": {},
     "output_type": "execute_result"
    }
   ],
   "source": [
    "[int(i) for i in get_Prob('Outlook').loc['Rain']['No'].split('/')]"
   ]
  },
  {
   "cell_type": "code",
   "execution_count": 147,
   "id": "b9446081-0ea5-470c-ab0a-82ee6ac236c6",
   "metadata": {},
   "outputs": [
    {
     "name": "stdout",
     "output_type": "stream",
     "text": [
      "(2, 5)\n",
      "1.0\n",
      "0.0\n",
      "Play Tennis : Yes\n"
     ]
    }
   ],
   "source": [
    "print(get_dat(get_Prob('Outlook'),'Rain','No'))\n",
    "\n",
    "\n",
    "def baye_prob(col1, col2, col3, col4):\n",
    "    p1_no = get_dat(get_Prob('Outlook'), col1, 'No')[\n",
    "        0]/get_dat(get_Prob('Outlook'), col1, 'No')[1]\n",
    "    p2_no = get_dat(get_Prob('Temperature'), col2, 'No')[\n",
    "        0]/get_dat(get_Prob('Temperature'), col2, 'No')[1]\n",
    "    p3_no = get_dat(get_Prob('Humidity'), col3, 'No')[\n",
    "        0]/get_dat(get_Prob('Humidity'), col3, 'No')[1]\n",
    "    p4_no = get_dat(get_Prob('Wind'), col4, 'No')[\n",
    "        0]/get_dat(get_Prob('Wind'), col4, 'No')[1]\n",
    "\n",
    "    p1_y = get_dat(get_Prob('Outlook'), col1, 'Yes')[\n",
    "        0]/get_dat(get_Prob('Outlook'), col1, 'Yes')[1]\n",
    "    p2_y = get_dat(get_Prob('Temperature'), col2, 'Yes')[\n",
    "        0]/get_dat(get_Prob('Temperature'), col2, 'Yes')[1]\n",
    "    p3_y = get_dat(get_Prob('Humidity'), col3, 'Yes')[\n",
    "        0]/get_dat(get_Prob('Humidity'), col3, 'Yes')[1]\n",
    "    p4_y = get_dat(get_Prob('Wind'), col4, 'Yes')[\n",
    "        0]/get_dat(get_Prob('Wind'), col4, 'Yes')[1]\n",
    "\n",
    "\n",
    "    p_yes = p1_y*p2_y*p3_y*p4_y*(9/14)\n",
    "    p_no = p1_no*p2_no*p3_no*p4_no*(5/14)\n",
    "\n",
    "    p_yes_ = p_yes/(p_yes+p_no)\n",
    "    p_no_ = p_no/(p_no+p_yes)\n",
    "\n",
    "\n",
    "    print(p_yes_)\n",
    "    print(p_no_)\n",
    "\n",
    "    if p_yes_ > p_no_:\n",
    "        print(\"Play Tennis : Yes\")\n",
    "    else:\n",
    "        print(\"Play Tennis : No\") \n",
    "\n",
    "baye_prob(\"Overcast\" , \"Hot\" , \"High\" , \"Weak\")\n",
    "\n",
    "\n",
    "\n",
    "\n",
    "\n",
    "\n",
    "\n"
   ]
  },
  {
   "cell_type": "code",
   "execution_count": null,
   "id": "2afe213a-4ad8-458d-b659-c6850005a370",
   "metadata": {},
   "outputs": [],
   "source": []
  },
  {
   "cell_type": "code",
   "execution_count": null,
   "id": "821690d1-a8d8-4173-9ab7-af2690d126f8",
   "metadata": {},
   "outputs": [],
   "source": []
  },
  {
   "cell_type": "code",
   "execution_count": null,
   "id": "64240f92-0d90-4c03-be9e-4e120a8715fd",
   "metadata": {},
   "outputs": [],
   "source": []
  },
  {
   "cell_type": "code",
   "execution_count": null,
   "id": "af5bc06c-faf8-42eb-b4a3-0f5402bc7ece",
   "metadata": {},
   "outputs": [],
   "source": []
  },
  {
   "cell_type": "code",
   "execution_count": null,
   "id": "97295c43-e049-4e4e-a98a-f9a1864f4834",
   "metadata": {},
   "outputs": [],
   "source": []
  },
  {
   "cell_type": "code",
   "execution_count": null,
   "id": "5c108cd3-d585-471f-acb4-922557eccf08",
   "metadata": {},
   "outputs": [],
   "source": []
  },
  {
   "cell_type": "code",
   "execution_count": null,
   "id": "25e55272-3088-4d12-bd9e-6dcdeceb83a7",
   "metadata": {},
   "outputs": [],
   "source": []
  },
  {
   "cell_type": "code",
   "execution_count": null,
   "id": "86d86a31-0ef5-43a4-a996-61ea3fc0b188",
   "metadata": {},
   "outputs": [],
   "source": []
  }
 ],
 "metadata": {
  "kernelspec": {
   "display_name": "Python 3 (ipykernel)",
   "language": "python",
   "name": "python3"
  },
  "language_info": {
   "codemirror_mode": {
    "name": "ipython",
    "version": 3
   },
   "file_extension": ".py",
   "mimetype": "text/x-python",
   "name": "python",
   "nbconvert_exporter": "python",
   "pygments_lexer": "ipython3",
   "version": "3.9.4"
  }
 },
 "nbformat": 4,
 "nbformat_minor": 5
}
